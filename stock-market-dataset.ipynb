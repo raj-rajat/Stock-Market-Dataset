{
 "cells": [
  {
   "cell_type": "code",
   "execution_count": 1,
   "id": "8c64d36e",
   "metadata": {
    "_cell_guid": "b1076dfc-b9ad-4769-8c92-a6c4dae69d19",
    "_uuid": "8f2839f25d086af736a60e9eeb907d3b93b6e0e5",
    "execution": {
     "iopub.execute_input": "2023-07-28T14:38:22.391419Z",
     "iopub.status.busy": "2023-07-28T14:38:22.390778Z",
     "iopub.status.idle": "2023-07-28T14:38:22.410068Z",
     "shell.execute_reply": "2023-07-28T14:38:22.408889Z"
    },
    "papermill": {
     "duration": 0.0274,
     "end_time": "2023-07-28T14:38:22.412774",
     "exception": false,
     "start_time": "2023-07-28T14:38:22.385374",
     "status": "completed"
    },
    "tags": []
   },
   "outputs": [
    {
     "name": "stdout",
     "output_type": "stream",
     "text": [
      "/kaggle/input/stock-market-dataset/Book1.xlsx\n"
     ]
    }
   ],
   "source": [
    "# This Python 3 environment comes with many helpful analytics libraries installed\n",
    "# It is defined by the kaggle/python Docker image: https://github.com/kaggle/docker-python\n",
    "# For example, here's several helpful packages to load\n",
    "\n",
    "import numpy as np # linear algebra\n",
    "import pandas as pd # data processing, CSV file I/O (e.g. pd.read_csv)\n",
    "\n",
    "# Input data files are available in the read-only \"../input/\" directory\n",
    "# For example, running this (by clicking run or pressing Shift+Enter) will list all files under the input directory\n",
    "\n",
    "import os\n",
    "for dirname, _, filenames in os.walk('/kaggle/input'):\n",
    "    for filename in filenames:\n",
    "        print(os.path.join(dirname, filename))\n",
    "\n",
    "# You can write up to 20GB to the current directory (/kaggle/working/) that gets preserved as output when you create a version using \"Save & Run All\" \n",
    "# You can also write temporary files to /kaggle/temp/, but they won't be saved outside of the current session"
   ]
  },
  {
   "cell_type": "code",
   "execution_count": null,
   "id": "4943582d",
   "metadata": {
    "papermill": {
     "duration": 0.002823,
     "end_time": "2023-07-28T14:38:22.418857",
     "exception": false,
     "start_time": "2023-07-28T14:38:22.416034",
     "status": "completed"
    },
    "tags": []
   },
   "outputs": [],
   "source": []
  },
  {
   "cell_type": "code",
   "execution_count": null,
   "id": "8e48a3eb",
   "metadata": {
    "papermill": {
     "duration": 0.002743,
     "end_time": "2023-07-28T14:38:22.424653",
     "exception": false,
     "start_time": "2023-07-28T14:38:22.421910",
     "status": "completed"
    },
    "tags": []
   },
   "outputs": [],
   "source": []
  },
  {
   "cell_type": "code",
   "execution_count": null,
   "id": "b54024b2",
   "metadata": {
    "papermill": {
     "duration": 0.002719,
     "end_time": "2023-07-28T14:38:22.430506",
     "exception": false,
     "start_time": "2023-07-28T14:38:22.427787",
     "status": "completed"
    },
    "tags": []
   },
   "outputs": [],
   "source": []
  },
  {
   "cell_type": "code",
   "execution_count": null,
   "id": "44256846",
   "metadata": {
    "papermill": {
     "duration": 0.002592,
     "end_time": "2023-07-28T14:38:22.436008",
     "exception": false,
     "start_time": "2023-07-28T14:38:22.433416",
     "status": "completed"
    },
    "tags": []
   },
   "outputs": [],
   "source": []
  },
  {
   "cell_type": "code",
   "execution_count": null,
   "id": "0df3c491",
   "metadata": {
    "papermill": {
     "duration": 0.002627,
     "end_time": "2023-07-28T14:38:22.441492",
     "exception": false,
     "start_time": "2023-07-28T14:38:22.438865",
     "status": "completed"
    },
    "tags": []
   },
   "outputs": [],
   "source": []
  },
  {
   "cell_type": "code",
   "execution_count": null,
   "id": "467170e8",
   "metadata": {
    "papermill": {
     "duration": 0.00263,
     "end_time": "2023-07-28T14:38:22.447037",
     "exception": false,
     "start_time": "2023-07-28T14:38:22.444407",
     "status": "completed"
    },
    "tags": []
   },
   "outputs": [],
   "source": []
  },
  {
   "cell_type": "code",
   "execution_count": null,
   "id": "772fdc2f",
   "metadata": {
    "papermill": {
     "duration": 0.002601,
     "end_time": "2023-07-28T14:38:22.452484",
     "exception": false,
     "start_time": "2023-07-28T14:38:22.449883",
     "status": "completed"
    },
    "tags": []
   },
   "outputs": [],
   "source": []
  },
  {
   "cell_type": "code",
   "execution_count": null,
   "id": "58e094d3",
   "metadata": {
    "papermill": {
     "duration": 0.002595,
     "end_time": "2023-07-28T14:38:22.457894",
     "exception": false,
     "start_time": "2023-07-28T14:38:22.455299",
     "status": "completed"
    },
    "tags": []
   },
   "outputs": [],
   "source": []
  },
  {
   "cell_type": "code",
   "execution_count": null,
   "id": "74726aa6",
   "metadata": {
    "papermill": {
     "duration": 0.002646,
     "end_time": "2023-07-28T14:38:22.463330",
     "exception": false,
     "start_time": "2023-07-28T14:38:22.460684",
     "status": "completed"
    },
    "tags": []
   },
   "outputs": [],
   "source": []
  },
  {
   "cell_type": "code",
   "execution_count": null,
   "id": "6e217df7",
   "metadata": {
    "papermill": {
     "duration": 0.002568,
     "end_time": "2023-07-28T14:38:22.468720",
     "exception": false,
     "start_time": "2023-07-28T14:38:22.466152",
     "status": "completed"
    },
    "tags": []
   },
   "outputs": [],
   "source": []
  },
  {
   "cell_type": "code",
   "execution_count": null,
   "id": "1543a8e4",
   "metadata": {
    "papermill": {
     "duration": 0.003227,
     "end_time": "2023-07-28T14:38:22.474738",
     "exception": false,
     "start_time": "2023-07-28T14:38:22.471511",
     "status": "completed"
    },
    "tags": []
   },
   "outputs": [],
   "source": []
  }
 ],
 "metadata": {
  "kernelspec": {
   "display_name": "Python 3",
   "language": "python",
   "name": "python3"
  },
  "language_info": {
   "codemirror_mode": {
    "name": "ipython",
    "version": 3
   },
   "file_extension": ".py",
   "mimetype": "text/x-python",
   "name": "python",
   "nbconvert_exporter": "python",
   "pygments_lexer": "ipython3",
   "version": "3.10.12"
  },
  "papermill": {
   "default_parameters": {},
   "duration": 10.583695,
   "end_time": "2023-07-28T14:38:23.303611",
   "environment_variables": {},
   "exception": null,
   "input_path": "__notebook__.ipynb",
   "output_path": "__notebook__.ipynb",
   "parameters": {},
   "start_time": "2023-07-28T14:38:12.719916",
   "version": "2.4.0"
  }
 },
 "nbformat": 4,
 "nbformat_minor": 5
}
